{
 "cells": [
  {
   "cell_type": "markdown",
   "metadata": {},
   "source": [
    "# Nuestra primera App con Kivy: Hello world!"
   ]
  },
  {
   "cell_type": "markdown",
   "metadata": {},
   "source": [
    "Haremos nuestra primera aplicación imprimiendo la etiqueta Hello World en la pantalla como todo primer programa que se precie. Para ello crearemos un nuevo archivo al que llamaremos `hello.py`. El contenido del script es el que aparece abajo y que explicaremos a continuación."
   ]
  },
  {
   "cell_type": "code",
   "execution_count": 2,
   "metadata": {
    "collapsed": false
   },
   "outputs": [],
   "source": [
    "# Archivo hello.py\n",
    "from kivy.app import App\n",
    "from kivy.uix.label import Label\n",
    "\n",
    "class HelloApp(App):\n",
    "    def build(self):\n",
    "        return Label(text='Hello world!')\n",
    "\n",
    "if __name__ == '__main__':\n",
    "    HelloApp().run()"
   ]
  },
  {
   "cell_type": "markdown",
   "metadata": {
    "collapsed": true
   },
   "source": [
    "Lo primero que hacemos en el programa es proceder a importar lo que necesitamos de Kivy, en este caso nuestra aplicación heredará todas las propiedades de la clase `App` de Kivy, por lo tanto siempre deberemos importar la clase `App`.\n",
    "\n",
    "A continuación del módulo `uix` (de *user interface*) importamos el \"widget\" `Label`. Los widgets son objetos como botones, etiquetas, cuadros, etc. que formarán parte de nuestras aplicaciones.\n",
    "\n",
    "Seguidamente definimos la clase `HelloApp` que nos permitirá crear nuestra aplicación. En la clase se definirán todas las propiedades y métodos que utilizará nuestra aplicación. En nuestro caso nuestra aplicación es tan simple que solo crea una etiqueta (`Label`) que tiene como propiedad el texto `'Hello World!'`.\n",
    "\n",
    "Por último se crea una instancia de nuestra aplicación y se ejecuta con el método `run`."
   ]
  },
  {
   "cell_type": "markdown",
   "metadata": {
    "collapsed": true
   },
   "source": [
    ">**¿Para qué sirve la línea `if __name__ == '__main__':`?**\n",
    ">\n",
    ">Cuando el intérprete de Python lee el archivo con el código, intenta ejecutar todo el código que encuentra en él. Antes de ejecutar el código, definirá algunas variables especiales. Ppor ejemplo, si el intérprete de Python está ejecutando el código como el programa principal, fija el valor de la variable `__name__` para que tenga el valor `\"__main__\"`. Si el código está siendo importado como un módulo, `__name__` tomará como nombre el nombre del módulo.\n",
    "\n",
    ">Entonces esta línea sirve para que el código que aparece dentro del bloque `if` solamente se ejecute en caso en que el programa se está ejecutando como el programa principal y que no se ejecute si lo que se está haciendo es importándolo como un módulo."
   ]
  },
  {
   "cell_type": "markdown",
   "metadata": {},
   "source": [
    "## Podemos hacerlo de otra manera: el lenguaje KV"
   ]
  },
  {
   "cell_type": "markdown",
   "metadata": {},
   "source": [
    "Si bien podemos crear la aplicación usando un único script en Python, hay una manera más elegante de trabajar que consiste en poner todo lo que tiene que ver con los widgets y el formato de los mismos en un fichero de configuración aparte. Este fichero de configuración usa un lenguaje propio de Kivy que iremos descubriendo a medida que avancemos en el curso. El nombre del fichero debe cumplir el siguiente requisito: si la aplicación se llama **`Hello2App`** el archivo de configuración debe llamarse **`hello2.kv`**.\n",
    "\n",
    "El archivo de Python ahora lo deberíamos escribir:"
   ]
  },
  {
   "cell_type": "code",
   "execution_count": null,
   "metadata": {
    "collapsed": true
   },
   "outputs": [],
   "source": [
    "# Archivo hello2.py\n",
    "from kivy.app import App\n",
    "from kivy.uix.label import Label\n",
    "\n",
    "class Hello2App(App):\n",
    "    def build(self):\n",
    "        return Label()\n",
    "\n",
    "if __name__ == '__main__':\n",
    "    Hello2App().run()"
   ]
  },
  {
   "cell_type": "markdown",
   "metadata": {},
   "source": [
    "El archivo hello2.kv contendrá el texto de la etiqueta:"
   ]
  },
  {
   "cell_type": "code",
   "execution_count": null,
   "metadata": {
    "collapsed": true
   },
   "outputs": [],
   "source": [
    "# Archivo hello2.kv\n",
    "<Label>:\n",
    "    text: 'Hello World!'"
   ]
  },
  {
   "cell_type": "markdown",
   "metadata": {},
   "source": [
    "En este caso no mejora mucho el código, pero en aplicaciones más complejas poder separar el código de la configuració de los objetos permite tener un código más limpio. Ahora ya sabemos comes la estructura básica de una aplicación basada en Kivy."
   ]
  }
 ],
 "metadata": {
  "kernelspec": {
   "display_name": "Python 2",
   "language": "python",
   "name": "python2"
  },
  "language_info": {
   "codemirror_mode": {
    "name": "ipython",
    "version": 2
   },
   "file_extension": ".py",
   "mimetype": "text/x-python",
   "name": "python",
   "nbconvert_exporter": "python",
   "pygments_lexer": "ipython2",
   "version": "2.7.6"
  }
 },
 "nbformat": 4,
 "nbformat_minor": 0
}
