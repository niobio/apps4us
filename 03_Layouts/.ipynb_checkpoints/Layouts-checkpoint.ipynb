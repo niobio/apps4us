{
 "cells": [
  {
   "cell_type": "markdown",
   "metadata": {},
   "source": [
    "# Layouts"
   ]
  },
  {
   "cell_type": "markdown",
   "metadata": {},
   "source": [
    "Los layouts permiten organizar los widgets en una aplicación, controlan la geometría de la disposición de los objetos. `Layout` es una subclase de Widget que implementa la manera de organizar los widgets en la pantalla. Hay muchas clases de Layouts, entre ellos se diferencian en el tipo de estrategia que usan para disponer los widgets, por ejemplo, `GridLayout` se usa para disponer los widgets en forma de grilla.\n",
    "\n",
    "Empecemos con un ejemlo de uso de `FloatLayout`"
   ]
  },
  {
   "cell_type": "code",
   "execution_count": null,
   "metadata": {
    "collapsed": true
   },
   "outputs": [],
   "source": [
    "#File name: floatlayout.py\n",
    "from kivy.app import App\n",
    "from kivy.uix.floatlayout import FloatLayout\n",
    "\n",
    "class FloatLayoutApp(App):\n",
    "    def build(self):\n",
    "        return FloatLayout()\n",
    "\n",
    "if __name__==\"__main__\":\n",
    "    FloatLayoutApp().run()"
   ]
  },
  {
   "cell_type": "markdown",
   "metadata": {},
   "source": [
    "El archivo `floatlayout.kv`"
   ]
  },
  {
   "cell_type": "code",
   "execution_count": null,
   "metadata": {
    "collapsed": true
   },
   "outputs": [],
   "source": [
    "# Archivo: floatlayout.kv\n",
    "<Button>\n",
    "    color: .8,.9,0,1\n",
    "    font_size: 32\n",
    "    size_hint: .4, .3\n",
    "\n",
    "<FloatLayout>:\n",
    "    Button:\n",
    "        text: 'Hello'\n",
    "        pos_hint: {'x': 0, 'top': 1}\n",
    "    Button:\n",
    "        text: 'World!'\n",
    "        pos_hint: {'right': 1, 'y': 0}"
   ]
  },
  {
   "cell_type": "markdown",
   "metadata": {},
   "source": [
    "<img src='img/floatlayout.png'>"
   ]
  },
  {
   "cell_type": "markdown",
   "metadata": {},
   "source": [
    "La siguiente tabla resume lo que hemos visto sobre las propiedades de posicionamiento y medida. La primera y segunda columnas indican el nombre de la propiedad y sus respectivos valores. La tercera y cuarta columnas indican si están disponibles para layouts y widgets.\n",
    "\n",
    "Propiedad|Valor|Para layouts|Para widgets\n",
    "--|--|--|--\n",
    "`size_hint`| Un par w , h : w , y h expresan una proporción (de 0 a 1 o None).| Si| No\n",
    "`size_hint_x` y `size_hint_y`| Una proporción de 0 a 1 o None, indicando ancho (`size_hint_x`) o altura (`size_hint_y`)|Si|No\n",
    "`pos_hint`|Diccionario con una clave para el eje x (`x` , `center_x` , o `right` ) y una clave para el eje y (`y`, `center_y`, o `top`). Los valores van de 0 a 1|Si|No\n",
    "`size`|Un par `w`, `h`: `w` y `h` indican un ancho y altura fijos en píxeles.|Si, pero fija `size_hint`:(None,None)|Si\n",
    "`width`|Número de píxeles fijo|Si, pero fija `size_hint_x: None`|Si\n",
    "`height`|Número de píxeles fijo|Si, pero fija `size_hint_y: None`|Si\n",
    "`pos`|Un par `x,y` indicando una coordenada fija(`x,y`) en píxeles.|Yes, pero no use `pos_hint`|Si\n",
    "`x`, `right` o `center_x`|Número de píxeles fijo|Si, pero no usar `x`, `right` o `center_x` en `pos_hint`|Si\n",
    "`y`, `top` o `center_y`|Número de píxeles fijo|Si, pero no usar `y`, `top` o `center_y` en `pos_hint`|Si\n"
   ]
  },
  {
   "cell_type": "markdown",
   "metadata": {},
   "source": [
    "Debemos tener cuidado porque algunas propiedades se comportan diferente dependiendo del layout que estemos usando. Kivy tiene 8 layouts diferentes, que están descriptos en la siguiente tabla. La columna de la izquierda es el nombre del layout de Kivy. La columna de la derecha describe brevemente como funciona.\n",
    "\n",
    "Layout|Funcionamiento\n",
    "--|--\n",
    "`FloatLayout`|Organiza los widgets con coordenadas relativas usando las propiedades `size_hint` y `pos_hint`. Los valores son números que van de 0 a 1, indicando la proporción de la medida de la ventana.\n",
    "`RelativeLayout`|Opera de la misma manera que `FloatLayout`, pero los valores de la propiedades de posición (`pos, x, center_x, right, y, center_y, top`) son relativas a la medida del `Layout` y no la de la ventana.\n",
    "`GridLayout`|Organiza los widgets en una grilla. Se debe especificar al menos una de las dos propiedades: `cols` para las columnas y `rows` para las filas.\n",
    "`BoxLayout`|Organiza los widgets en una fila o en una columna dependiendo de si el valor de la propiedad `orientation` es `horizontal` o `vertical`.\n",
    "`StackLayout`|Similar a `BosLayout`, pero este va a la siguiente fila o columna cuando se queda sin espacio. Hay más flexibilidad para fijar la orientación. Por ejemplo, `rl-bt` organiza los widgets de derecha a izquierda y de abajo hacia arriba. Cualquier combinación de `lr` (left to right), `rl` (right to left), `tb` (top to bottom) y `bt` (bottom to top está permitida.\n",
    "`ScatterLayout`|Funciona de una manera similar a `RelativeLayout` pero permite gestos multitáctiles, escalado, y traslaciones. Es un poco diferente en cuanto a implementación."
   ]
  },
  {
   "cell_type": "markdown",
   "metadata": {},
   "source": [
    "La API de Kivy (http://kivy.org/docs/api-kivy.html) ofrece explicaciones detalladas con ejemplos de como usar los layouts. El comportamiento de las propiedades depende de los layouts y a veces resultan inesperados. Aquí hay algunas ayudas que pueden ayudar a construir la GUI:\n",
    "\n",
    "* `size_hint`, `size_hint_x`, y `size_hint_y` funciona con todos los layouts (excepto `PageLayout`), pero el comportamiento puede ser un poco diferente. \n",
    "* Se deben usar valores de 0 a 1 con `size_hint`, `size_hint_x`, y `size_hint_y`. Sin embargo, se pueden usar valores valores mayores a 1, Kivy hace al widget mayor que el contenedor.\n",
    "* `pos_hint` solo trabaja para `FloatLayout`, `RelativeLayout`, y `BoxLayout`. En `BoxLayout`, solo las claves del eje x (`x`, `center_x`, `right`) trabaja en la orientación vertical y viceversa para la orientación horizontal. Una regla análoga se aplica para las propiedades de posición fija (`pos`, `x`, `center_x`, `right`, `y`, `center_y`, y `top` ).\n",
    "* `size_hint`, `size_hint_x`, y `size_hint_y` pueden siempre ponerse en `None` en favor de `size`, `width`, y `height`."
   ]
  },
  {
   "cell_type": "markdown",
   "metadata": {},
   "source": [
    "> **Proyecto:**\n",
    "\n",
    ">Crea una aplicación con cuatro botones, cada uno en las cuatro esquinas de la pantalla. Los botones deben tener una medida de ancho del 20% del ancho de la ventana y una altura del 10% de la altura de la pantalla. Los botones tendrán como texto las siglas NE (por ser el botón ubicado en la esquina Nordeste), NO, SO y SE. Cuando se aprieta un botón deberá imprimirse en el centro de la pantalla la leyenda \"Has apretado el botón XY\", con XY correspondiente a la sigla del botón apretado."
   ]
  }
 ],
 "metadata": {
  "kernelspec": {
   "display_name": "Python 2",
   "language": "python",
   "name": "python2"
  },
  "language_info": {
   "codemirror_mode": {
    "name": "ipython",
    "version": 2
   },
   "file_extension": ".py",
   "mimetype": "text/x-python",
   "name": "python",
   "nbconvert_exporter": "python",
   "pygments_lexer": "ipython2",
   "version": "2.7.6"
  }
 },
 "nbformat": 4,
 "nbformat_minor": 0
}
