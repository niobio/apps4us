{
 "cells": [
  {
   "cell_type": "markdown",
   "metadata": {},
   "source": [
    "# Widgets básicos: Etiquetas y botones"
   ]
  },
  {
   "cell_type": "markdown",
   "metadata": {},
   "source": [
    "Los widgets son elementos gráficos que se utilizan para configurar una Interfaz Gráfica de Usuario (GUI - *Graphical User Interface*). Kivy tiene una lista completa de widgets: botones, etiquetas, checkboxes, desplegables y muchos más. Ya hemos visto como usar las etiquetas y botones en ejemplos pero ahora nos fijaremos con un poco de detalle en como usarlos."
   ]
  },
  {
   "cell_type": "markdown",
   "metadata": {},
   "source": [
    "## Controlar el texto de una etiqueta con un botón"
   ]
  },
  {
   "cell_type": "markdown",
   "metadata": {},
   "source": [
    "Veamos como hacer una aplicación que contenga un botón y una etiqueta y que cuando apretemos el botón el texto de la etiqueta cambie. De esta manera veremos como controlar un widget a través de un evento, como es el apretar un botón. \n",
    "\n",
    "Para comenzar usaremos el siguiete código como base para nuestra aplicación a la que llamaremos Saludo y guardaremos en un archivo llamado `saludo.py`:"
   ]
  },
  {
   "cell_type": "code",
   "execution_count": null,
   "metadata": {
    "collapsed": true
   },
   "outputs": [],
   "source": [
    "# Archivo: saludo.py\n",
    "from kivy.app import App\n",
    "from kivy.uix.widget import Widget\n",
    "\n",
    "class MiWidget(Widget):\n",
    "    pass\n",
    "\n",
    "class SaludoApp(App):\n",
    "    def build(self):\n",
    "        return MiWidget()\n",
    "\n",
    "if __name__==\"__main__\":\n",
    "    SaludoApp().run()"
   ]
  },
  {
   "cell_type": "markdown",
   "metadata": {
    "collapsed": true
   },
   "source": [
    "Para crear la aplicación importamos el módulo `App` de Kivy. Los elementos gráficos como los botones y las etiquetas son subclases de la clase `Widget` y heredan sus propiedades. Por ese motivo también importamos el módulo `Widget`.\n",
    "\n",
    "Creamos una subclase de `App` llamada `SaludoApp` y creamos una subclase de `Widget` llamada `MiWidget`. Esto es una práctica habitual para evitar modifificar la clase original de Kivy, ya que queremos evitar aplicar todos los cambios que hagamos a las futuras instancias de la clase widget de Kivy.\n",
    "\n",
    "Lo que hace la clase `SaludoApp` es crear una instancia de la clase `MiWidget` de manera que podremos distinguir entre nuestro widget (`MyWidget`) y un widget de Kivy (`Widget`).\n",
    "\n",
    "El archivo `saludo.kv` con la configuración de los widgets será:"
   ]
  },
  {
   "cell_type": "code",
   "execution_count": null,
   "metadata": {
    "collapsed": true
   },
   "outputs": [],
   "source": [
    "<MiWidget>:\n",
    "    Label:\n",
    "        id: label\n",
    "        pos: 300,200\n",
    "        text: 'Hola'\n",
    "    Button:\n",
    "        id: button\n",
    "        pos: 200,300\n",
    "        size: 300,50\n",
    "        text: 'Saludar'\n",
    "        on_press: root.saludar()"
   ]
  },
  {
   "cell_type": "markdown",
   "metadata": {},
   "source": [
    "En el archivo tenemos dos widgets con su configuración, una etiqueta (`Label`) y un botón (`Button`) que son instancias de la clase `MiWidget`. Podemos observar que si apretamos el botón se ejecutará el método `root.saludar()` que pertenece a la clase raíz (`root`) que en nuestro caso es la clase `MiWidget`. \n",
    "\n",
    "Pero la clase `MiWidget` no contiene el método `saludar`, por lo que deberemos crearlo en nuestro programa dentro de la clase a la que pertenece. Haremos que el método `saludar` modifique el texto de la etiqueta. Si el texto de la etiqueta es \"Hola\" lo cambiará por \"Hasta luego\" y si pone \"Hasta luego\" lo cambie por \"Hola\". El código de nuestra función será:"
   ]
  },
  {
   "cell_type": "code",
   "execution_count": null,
   "metadata": {
    "collapsed": true
   },
   "outputs": [],
   "source": [
    "def saludar(self):\n",
    "    if self.ids.label.text == \"Hola\":\n",
    "        self.ids.label.text = \"Hasta luego\"\n",
    "    else:\n",
    "        self.ids.label.text = \"Hola\""
   ]
  },
  {
   "cell_type": "markdown",
   "metadata": {},
   "source": [
    "Con este añadido el archivo `saludo.py` quedará:"
   ]
  },
  {
   "cell_type": "code",
   "execution_count": null,
   "metadata": {
    "collapsed": true
   },
   "outputs": [],
   "source": [
    "# archivo: saludo.py\n",
    "from kivy.app import App\n",
    "from kivy.uix.widget import Widget\n",
    "\n",
    "class MiWidget(Widget):\n",
    "    def saludar(self):\n",
    "        if self.ids.label.text == 'Hola':\n",
    "            self.ids.label.text = u'Hasta luego'\n",
    "        else:\n",
    "            self.ids.label.text = 'Hola'\n",
    "        \n",
    "class SaludoApp(App):\n",
    "    def build(self):\n",
    "        return MiWidget()\n",
    "        \n",
    "\n",
    "if __name__==\"__main__\":\n",
    "    SaludoApp().run()"
   ]
  },
  {
   "cell_type": "markdown",
   "metadata": {},
   "source": [
    "El aspecto de nuestra aplicación será el siguiente:\n",
    "\n",
    "<img src='code/saludoApp.png' width='500'>"
   ]
  },
  {
   "cell_type": "markdown",
   "metadata": {},
   "source": [
    ">**Actividad**:\n",
    "\n",
    ">Crear una aplicación que contenga un botón y una leyenda como en el ejemplo anterior. El botón deberá contener el texto \"Suerte\" y la leyenda contenga una frase prediciendo el futuro, al estilo de la galleta china de la suerte. Esta frase deberá cambiar al azar cada vez que se apriete el botón, por lo que deberías crear una lista con frases para elegir. Esta App es muy parecida a la anterior pero deberías cambiar el método que se utiliza al apretar el botón"
   ]
  }
 ],
 "metadata": {
  "kernelspec": {
   "display_name": "Python 2",
   "language": "python",
   "name": "python2"
  },
  "language_info": {
   "codemirror_mode": {
    "name": "ipython",
    "version": 2
   },
   "file_extension": ".py",
   "mimetype": "text/x-python",
   "name": "python",
   "nbconvert_exporter": "python",
   "pygments_lexer": "ipython2",
   "version": "2.7.6"
  }
 },
 "nbformat": 4,
 "nbformat_minor": 0
}
