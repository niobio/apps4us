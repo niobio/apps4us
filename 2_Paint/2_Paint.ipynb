{
 "cells": [
  {
   "cell_type": "markdown",
   "metadata": {},
   "source": [
    "# Proyecto 2: Paint App"
   ]
  },
  {
   "cell_type": "markdown",
   "metadata": {},
   "source": [
    "## Empezando por la base de la aplicación"
   ]
  },
  {
   "cell_type": "code",
   "execution_count": null,
   "metadata": {
    "collapsed": false
   },
   "outputs": [],
   "source": [
    "# Archivo paint.py\n",
    "from kivy.app import App\n",
    "from kivy.uix.widget import Widget\n",
    "\n",
    "class CanvasWidget(Widget):\n",
    "    pass\n",
    "\n",
    "class PaintApp(App):\n",
    "    def build(self):\n",
    "        return CanvasWidget()\n",
    "\n",
    "if __name__ == '__main__':\n",
    "    PaintApp().run()"
   ]
  },
  {
   "cell_type": "markdown",
   "metadata": {},
   "source": [
    "## Ajustando la pariencia de la aplicación"
   ]
  },
  {
   "cell_type": "markdown",
   "metadata": {},
   "source": [
    "### Apariencia visual"
   ]
  },
  {
   "cell_type": "markdown",
   "metadata": {},
   "source": [
    "Como estamos haciendo una aplicación para dibujar haremos que el fondo de la ventana de la aplicación sea blanco, para ello usaremos la función `Window.clearcolor` y el color blanco lo "
   ]
  },
  {
   "cell_type": "code",
   "execution_count": null,
   "metadata": {
    "collapsed": true
   },
   "outputs": [],
   "source": [
    "# Las importaciones las agregamos al comienzo del archivo paint.py\n",
    "from kivy.core.window import Window\n",
    "\n",
    "# La siguiente línea va después de la línea \"if __name__ == '__main__':\"\n",
    "Window.clearcolor = (255, 255, 255, 255)"
   ]
  },
  {
   "cell_type": "markdown",
   "metadata": {},
   "source": [
    "### Tamaño de la ventana"
   ]
  },
  {
   "cell_type": "code",
   "execution_count": null,
   "metadata": {
    "collapsed": true
   },
   "outputs": [],
   "source": []
  }
 ],
 "metadata": {
  "kernelspec": {
   "display_name": "Python 2",
   "language": "python",
   "name": "python2"
  },
  "language_info": {
   "codemirror_mode": {
    "name": "ipython",
    "version": 2
   },
   "file_extension": ".py",
   "mimetype": "text/x-python",
   "name": "python",
   "nbconvert_exporter": "python",
   "pygments_lexer": "ipython2",
   "version": "2.7.6"
  }
 },
 "nbformat": 4,
 "nbformat_minor": 0
}
